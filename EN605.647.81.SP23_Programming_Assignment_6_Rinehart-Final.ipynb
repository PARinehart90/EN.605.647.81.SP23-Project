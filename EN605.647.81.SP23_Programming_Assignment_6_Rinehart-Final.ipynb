{
 "cells": [
  {
   "cell_type": "code",
   "execution_count": 1,
   "metadata": {},
   "outputs": [],
   "source": [
    "import numpy as np\n",
    "import pandas as pd"
   ]
  },
  {
   "cell_type": "code",
   "execution_count": 2,
   "metadata": {},
   "outputs": [],
   "source": [
    "#Initial parameters\n",
    "input_vector=[1,3]\n",
    "layer1_size = 2\n",
    "weight_layer1 = np.array([[0.8, 0.5],[0.1, 0.2]])\n",
    "layer2_size = 1\n",
    "weight_layer2 = np.array([[0.2], [0.7]])\n",
    "bias = 0\n",
    "eta = 0.1\n",
    "target = 0.95"
   ]
  },
  {
   "cell_type": "code",
   "execution_count": 3,
   "metadata": {},
   "outputs": [],
   "source": [
    "class Perceptron:\n",
    "    \n",
    "    #initialize perceptron class\n",
    "    def __init__(self, weights):\n",
    "        self.weights = weights\n",
    "        self.delta_weights = np.zeros_like(weights)\n",
    "        self.activity = 0\n",
    "        self.activation = 0\n",
    "        self.delta = 0\n",
    "        \n",
    "        #Calculate the activity value\n",
    "    def calc_activity(self, inputs):\n",
    "        #print(\"Calc Activity first\")\n",
    "        #print(\"inputs: \", inputs)\n",
    "        #print(\"weights: \", self.weights)\n",
    "        self.activity = np.dot(inputs, self.weights)\n",
    "        #print(\"Activity: \", self.activity)\n",
    "        \n",
    "    #Calculate the activation function given the activity value using sigmoid function\n",
    "    def calc_activation(self, inputs):\n",
    "        self.calc_activity(inputs)\n",
    "        #print(\"Now activation: \")\n",
    "        self.activation = 1/(1+np.exp(-1*self.activity))\n",
    "        #print(self.activation)\n",
    "        return self.activation\n",
    "    \n",
    "    def set_weights(self, new_weights):\n",
    "        self.weights = new_weights\n"
   ]
  },
  {
   "cell_type": "code",
   "execution_count": 4,
   "metadata": {},
   "outputs": [],
   "source": [
    "class Layer:\n",
    "    \n",
    "    #initialize layer class\n",
    "    def __init__(self, layer_length, layer_weight, OutputLayerFlag= False):\n",
    "        self.layer =  [Perceptron(weights=layer_weight[:, i]) for i in range(0,layer_length)]\n",
    "        self.layer_length = layer_length \n",
    "        self.layer_weight = layer_weight\n",
    "        self.OutputLayerFlag = OutputLayerFlag\n",
    "        \n",
    "    def get_layer_length(self):\n",
    "        return self.layer_length\n",
    "        \n",
    "    def get_layer_output_vector(self, inputs):\n",
    "        self.output_vector = [self.layer[i].calc_activation(inputs) for i in range(0, self.get_layer_length())]\n",
    "        return np.array(self.output_vector)\n",
    "    \n",
    "    def get_error_vector(self, desired_output):\n",
    "        self.littleE_vector = desired_output - np.array(self.output_vector)\n",
    "        return self.littleE_vector\n",
    "    \n",
    "    def calc_layer_delta_weights(self, inputs, eta, prev_layer_delta=None, prev_layer_weights = None):\n",
    "        if self.OutputLayerFlag:\n",
    "            self.bigE = 0.5*np.array(self.littleE_vector)**2\n",
    "            self.delta = self.littleE_vector*(1-np.array(self.output_vector))*self.output_vector\n",
    "            self.delta_weights = np.array(self.layer_weight).T+ eta*self.delta*np.array(inputs)\n",
    "        else:\n",
    "            self.delta = (1-np.array(self.output_vector))*np.array(self.output_vector)*prev_layer_delta*np.array(prev_layer_weights).T\n",
    "            self.delta_weights = self.layer_weight+eta*self.delta*inputs\n",
    "        return self.delta_weights\n",
    "    \n",
    "    def update_layer_weights(self):\n",
    "        self.layer_weight = self.delta_weights\n",
    "        for i in range(0, self.get_layer_length()):\n",
    "            self.layer[i].set_weights(self.delta_weights[i])\n",
    "            print(self.layer[i].weights)   "
   ]
  },
  {
   "cell_type": "code",
   "execution_count": 5,
   "metadata": {},
   "outputs": [],
   "source": [
    "Layer1=Layer(2,weight_layer1)\n",
    "Layer2=Layer(1,weight_layer2, OutputLayerFlag = True)"
   ]
  },
  {
   "cell_type": "code",
   "execution_count": 6,
   "metadata": {},
   "outputs": [
    {
     "data": {
      "text/plain": [
       "array([0.75026011, 0.75026011])"
      ]
     },
     "execution_count": 6,
     "metadata": {},
     "output_type": "execute_result"
    }
   ],
   "source": [
    "Layer1.get_layer_output_vector(input_vector)"
   ]
  },
  {
   "cell_type": "code",
   "execution_count": 7,
   "metadata": {},
   "outputs": [
    {
     "data": {
      "text/plain": [
       "array([0.66267417])"
      ]
     },
     "execution_count": 7,
     "metadata": {},
     "output_type": "execute_result"
    }
   ],
   "source": [
    "Layer2.get_layer_output_vector(Layer1.output_vector)"
   ]
  },
  {
   "cell_type": "code",
   "execution_count": 8,
   "metadata": {},
   "outputs": [
    {
     "data": {
      "text/plain": [
       "array([0.28732583])"
      ]
     },
     "execution_count": 8,
     "metadata": {},
     "output_type": "execute_result"
    }
   ],
   "source": [
    "Layer2.get_error_vector(target)"
   ]
  },
  {
   "cell_type": "code",
   "execution_count": 9,
   "metadata": {},
   "outputs": [
    {
     "data": {
      "text/plain": [
       "array([[0.20481877, 0.70481877]])"
      ]
     },
     "execution_count": 9,
     "metadata": {},
     "output_type": "execute_result"
    }
   ],
   "source": [
    "Layer2.calc_layer_delta_weights(Layer1.output_vector, eta)"
   ]
  },
  {
   "cell_type": "code",
   "execution_count": 10,
   "metadata": {},
   "outputs": [
    {
     "data": {
      "text/plain": [
       "array([[0.80024069, 0.50252722],\n",
       "       [0.10024069, 0.20252722]])"
      ]
     },
     "execution_count": 10,
     "metadata": {},
     "output_type": "execute_result"
    }
   ],
   "source": [
    "Layer1.calc_layer_delta_weights(input_vector, eta, Layer2.delta, Layer2.layer_weight)"
   ]
  },
  {
   "cell_type": "code",
   "execution_count": 11,
   "metadata": {},
   "outputs": [
    {
     "data": {
      "text/plain": [
       "array([[0.00240688, 0.00842407]])"
      ]
     },
     "execution_count": 11,
     "metadata": {},
     "output_type": "execute_result"
    }
   ],
   "source": [
    "Layer1.delta"
   ]
  },
  {
   "cell_type": "code",
   "execution_count": 12,
   "metadata": {},
   "outputs": [],
   "source": [
    "#Layer2.update_layer_weights()\n",
    "#Layer1.update_layer_weights()"
   ]
  },
  {
   "cell_type": "markdown",
   "metadata": {},
   "source": [
    "Question 1: What is the initial activation function value of Node 1? 0.7503"
   ]
  },
  {
   "cell_type": "code",
   "execution_count": 13,
   "metadata": {},
   "outputs": [
    {
     "data": {
      "text/plain": [
       "0.7502601055951177"
      ]
     },
     "execution_count": 13,
     "metadata": {},
     "output_type": "execute_result"
    }
   ],
   "source": [
    "Layer1.layer[0].activation"
   ]
  },
  {
   "cell_type": "markdown",
   "metadata": {},
   "source": [
    "Question 2: What is the initial activation value of Node 2? 0.7503"
   ]
  },
  {
   "cell_type": "code",
   "execution_count": 14,
   "metadata": {},
   "outputs": [
    {
     "data": {
      "text/plain": [
       "0.7502601055951177"
      ]
     },
     "execution_count": 14,
     "metadata": {},
     "output_type": "execute_result"
    }
   ],
   "source": [
    "Layer1.layer[1].activation"
   ]
  },
  {
   "cell_type": "markdown",
   "metadata": {},
   "source": [
    "Quesion 3: What is the initial activation value of Node 3?  0.6627"
   ]
  },
  {
   "cell_type": "code",
   "execution_count": 15,
   "metadata": {},
   "outputs": [
    {
     "data": {
      "text/plain": [
       "0.6626741680915721"
      ]
     },
     "execution_count": 15,
     "metadata": {},
     "output_type": "execute_result"
    }
   ],
   "source": [
    "Layer2.layer[0].activation"
   ]
  },
  {
   "cell_type": "markdown",
   "metadata": {},
   "source": [
    "Question 4: Using your previously calculated values, what is the updated weight for the link connecting node 1 with node 3?  0.2048"
   ]
  },
  {
   "cell_type": "code",
   "execution_count": 16,
   "metadata": {},
   "outputs": [
    {
     "data": {
      "text/plain": [
       "array([0.20481877])"
      ]
     },
     "execution_count": 16,
     "metadata": {},
     "output_type": "execute_result"
    }
   ],
   "source": [
    "Layer2.calc_layer_delta_weights(Layer1.output_vector, eta)[:,0]"
   ]
  },
  {
   "cell_type": "markdown",
   "metadata": {},
   "source": [
    "Question 5: Using the data you've calculated, what is the updated weight for the link connecting Node 2 with Node 3? 0.7048"
   ]
  },
  {
   "cell_type": "code",
   "execution_count": 17,
   "metadata": {},
   "outputs": [
    {
     "data": {
      "text/plain": [
       "array([0.70481877])"
      ]
     },
     "execution_count": 17,
     "metadata": {},
     "output_type": "execute_result"
    }
   ],
   "source": [
    "Layer2.calc_layer_delta_weights(Layer1.output_vector, eta)[:,1]"
   ]
  },
  {
   "cell_type": "markdown",
   "metadata": {},
   "source": [
    "Question 6: For the updated weight from input 1 to node 2, by how much does the weight increase or decrease?  0.0008"
   ]
  },
  {
   "cell_type": "code",
   "execution_count": 18,
   "metadata": {},
   "outputs": [
    {
     "data": {
      "text/plain": [
       "0.008424073202270744"
      ]
     },
     "execution_count": 18,
     "metadata": {},
     "output_type": "execute_result"
    }
   ],
   "source": [
    "Layer1.delta[0,1]"
   ]
  }
 ],
 "metadata": {
  "kernelspec": {
   "display_name": "Python 3",
   "language": "python",
   "name": "python3"
  },
  "language_info": {
   "codemirror_mode": {
    "name": "ipython",
    "version": 3
   },
   "file_extension": ".py",
   "mimetype": "text/x-python",
   "name": "python",
   "nbconvert_exporter": "python",
   "pygments_lexer": "ipython3",
   "version": "3.8.5"
  }
 },
 "nbformat": 4,
 "nbformat_minor": 4
}
